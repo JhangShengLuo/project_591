{
 "cells": [
  {
   "cell_type": "code",
   "execution_count": 1,
   "id": "147b4677-efb2-47d8-973a-d2226fcee42f",
   "metadata": {
    "tags": []
   },
   "outputs": [],
   "source": [
    "\n",
    "import requests\n",
    "import time\n",
    "from bs4 import BeautifulSoup\n",
    "import pandas as pd\n",
    "import warnings\n",
    "import datetime\n",
    "import requests\n",
    "import pandas as pd\n",
    "import logging"
   ]
  },
  {
   "cell_type": "code",
   "execution_count": 2,
   "id": "c2f1f3ea-613c-4c5b-a4fe-f7257ff2338f",
   "metadata": {
    "tags": []
   },
   "outputs": [],
   "source": [
    "\n",
    "headers={\n",
    "    'user-agent' : 'Mozilla/5.0 (Windows NT 10.0; Win64; x64) AppleWebKit/537.36 (KHTML, like Gecko) Chrome/84.0.4147.125 Safari/537.36'\n",
    "    }\n",
    "\n",
    "url = 'https://sale.591.com.tw/home/house/detail/2/13140478.html'\n"
   ]
  },
  {
   "cell_type": "code",
   "execution_count": 3,
   "id": "f65dc657-0d24-4ef1-8001-d294c8630ebe",
   "metadata": {
    "tags": []
   },
   "outputs": [],
   "source": [
    "response=requests.get(url, headers = headers)"
   ]
  },
  {
   "cell_type": "code",
   "execution_count": 4,
   "id": "2284b120-4d8b-4cb5-b7fb-551d96fef39b",
   "metadata": {
    "tags": []
   },
   "outputs": [],
   "source": [
    "if response.status_code == 200:\n",
    "    pass\n",
    "else:\n",
    "    logging.error(f\"check url: {url}\")"
   ]
  },
  {
   "cell_type": "code",
   "execution_count": null,
   "id": "5dc87b44-c932-41a5-b8f1-e0ebe70c1df8",
   "metadata": {},
   "outputs": [],
   "source": []
  },
  {
   "cell_type": "code",
   "execution_count": 7,
   "id": "6fd79008-3faf-4ea6-a18f-823d3d617a2a",
   "metadata": {
    "tags": []
   },
   "outputs": [],
   "source": [
    "\n",
    "\n",
    "bs=BeautifulSoup(response.text,'html.parser')\n",
    "#先宣告變數為NULL 若無撈到資料則寫入NULL\n",
    "\n",
    "column_dict = {}\n",
    "column_dict['url'] = [url]\n",
    "column_dict['title'] = ''\n",
    "column_dict['addr']=''\n",
    "column_dict['price']=''\n",
    "column_dict['price_unit']=''\n",
    "column_dict['car_park']=''\n",
    "column_dict['addr_info']=''\n",
    "column_dict['status']= ''\n",
    "column_dict['basic_info'] = ''\n",
    "\n",
    "try:\n",
    "    # 利用 beautfiulsoup 的 find function 利用 css selector 定位 並撈出指定資料\n",
    "    column_dict['title'] = [bs.find('h1',{'class':'detail-title-content'}).text.strip()]\n",
    "    column_dict['addr']= [bs.find('span',{'class':'info-addr-value'}).text]\n",
    "    column_dict['price']=[bs.find('span',{'class':'info-price-num'}).text]\n",
    "    column_dict['price_unit']=[bs.find('span',{'class':'info-price-unit'}).text]\n",
    "    \n",
    "    car_or_not = bs.find('div',{'class':'info-box-car'})\n",
    "    if car_or_not:\n",
    "        column_dict['car_park'] = [car_or_not.text]\n",
    "    else:\n",
    "        column_dict['car_park'] = ['']\n",
    "    addr_info=bs.find('div',{'class':'info-box-addr'}).findAll('div',{'class':'info-addr-content'})\n",
    "    addr_info_dict = {}\n",
    "    for i in addr_info:\n",
    "        k = i.find('span',{'class':'info-addr-key'}).text\n",
    "        v = i.find('span',{'class':'info-addr-value'}).text\n",
    "        addr_info_dict[k] = v\n",
    "    \n",
    "    status=bs.find('div',{'class':'info-box-floor'}).findAll('div',{'class':'info-floor-left'})\n",
    "    basic_info=bs.find('div',{'class':'detail-house-content'}).findAll('div',{'class':'detail-house-item'})\n",
    "    status_dict = {}\n",
    "    for i in status:\n",
    "        k = i.find('div',{'class':'info-floor-key'}).text\n",
    "        v = i.find('div',{'class':'info-floor-value'}).text\n",
    "        status_dict[k] = v\n",
    "    basic_info_dict = {}\n",
    "    for i in basic_info:\n",
    "        k = i.find('div',{'class':'detail-house-key'}).text\n",
    "        v = i.find('div',{'class':'detail-house-value'}).text\n",
    "        basic_info_dict[k] = v\n",
    "        \n",
    "    column_dict['addr_info'] = [addr_info_dict]\n",
    "    column_dict['status']= [status_dict]\n",
    "    column_dict['basic_info'] = [basic_info_dict]\n",
    "    \n",
    "except:\n",
    "    logging.error('error:', exc_info=True)\n"
   ]
  },
  {
   "cell_type": "code",
   "execution_count": null,
   "id": "0d440c55-0cfc-49b1-9558-2b32d83c2a3f",
   "metadata": {},
   "outputs": [],
   "source": []
  },
  {
   "cell_type": "code",
   "execution_count": null,
   "id": "1954bf99-442a-439e-acec-c9c91ca1993b",
   "metadata": {},
   "outputs": [],
   "source": []
  },
  {
   "cell_type": "code",
   "execution_count": null,
   "id": "9eaae5b9-b566-4ec2-8ec9-90353421ed28",
   "metadata": {},
   "outputs": [],
   "source": []
  },
  {
   "cell_type": "code",
   "execution_count": 8,
   "id": "b4313dee-2b5a-4130-9fdd-9f7348a3ad05",
   "metadata": {
    "tags": []
   },
   "outputs": [
    {
     "data": {
      "text/plain": [
       "{'url': ['https://sale.591.com.tw/home/house/detail/2/13140478.html'],\n",
       " 'title': ['郭合豐名門~小檜溪旁~大四房雙衛浴開窗'],\n",
       " 'addr': ['4F/5F'],\n",
       " 'price': ['798'],\n",
       " 'price_unit': ['萬元'],\n",
       " 'car_park': [''],\n",
       " 'addr_info': [{'樓層': '4F/5F', '社區': '郭合豐名門', '地址': '桃園市桃園區國華街'}],\n",
       " 'status': [{'4房2廳2衛2陽台': '格局', '34年': '屋齡', '43.77坪': '權狀坪數'}],\n",
       " 'basic_info': [{'現況': '住宅',\n",
       "   '型態': '公寓',\n",
       "   '裝潢程度': '簡易裝潢',\n",
       "   '帶租約': '否',\n",
       "   '法定用途': '住家用',\n",
       "   '車位': '無',\n",
       "   '公設比': '6%'}]}"
      ]
     },
     "execution_count": 8,
     "metadata": {},
     "output_type": "execute_result"
    }
   ],
   "source": [
    "column_dict"
   ]
  },
  {
   "cell_type": "code",
   "execution_count": 98,
   "id": "6f2a7581-a77e-4e8a-9862-05d29095e796",
   "metadata": {
    "tags": []
   },
   "outputs": [
    {
     "data": {
      "text/html": [
       "<div>\n",
       "<style scoped>\n",
       "    .dataframe tbody tr th:only-of-type {\n",
       "        vertical-align: middle;\n",
       "    }\n",
       "\n",
       "    .dataframe tbody tr th {\n",
       "        vertical-align: top;\n",
       "    }\n",
       "\n",
       "    .dataframe thead th {\n",
       "        text-align: right;\n",
       "    }\n",
       "</style>\n",
       "<table border=\"1\" class=\"dataframe\">\n",
       "  <thead>\n",
       "    <tr style=\"text-align: right;\">\n",
       "      <th></th>\n",
       "      <th>url</th>\n",
       "      <th>title</th>\n",
       "      <th>addr</th>\n",
       "      <th>price</th>\n",
       "      <th>price_unit</th>\n",
       "      <th>car_park</th>\n",
       "      <th>addr_info</th>\n",
       "      <th>status</th>\n",
       "      <th>basic_info</th>\n",
       "    </tr>\n",
       "  </thead>\n",
       "  <tbody>\n",
       "    <tr>\n",
       "      <th>0</th>\n",
       "      <td>https://sale.591.com.tw/home/house/detail/2/13...</td>\n",
       "      <td>獨家~羅丹映象三房車~低總價~前後陽台</td>\n",
       "      <td>5F/14F</td>\n",
       "      <td>1098</td>\n",
       "      <td>萬元</td>\n",
       "      <td>（含車位價格）</td>\n",
       "      <td>{'樓層': '5F/14F', '社區': '羅丹映象', '地址': '桃園市桃園區莊敬...</td>\n",
       "      <td>{'3房2廳2衛2陽台': '格局', '24年': '屋齡', '41.96坪(含車位)'...</td>\n",
       "      <td>{'現況': '住宅', '型態': '電梯大樓', '裝潢程度': '簡易裝潢', '帶租...</td>\n",
       "    </tr>\n",
       "  </tbody>\n",
       "</table>\n",
       "</div>"
      ],
      "text/plain": [
       "                                                 url                title  \\\n",
       "0  https://sale.591.com.tw/home/house/detail/2/13...  獨家~羅丹映象三房車~低總價~前後陽台   \n",
       "\n",
       "     addr price price_unit car_park  \\\n",
       "0  5F/14F  1098         萬元  （含車位價格）   \n",
       "\n",
       "                                           addr_info  \\\n",
       "0  {'樓層': '5F/14F', '社區': '羅丹映象', '地址': '桃園市桃園區莊敬...   \n",
       "\n",
       "                                              status  \\\n",
       "0  {'3房2廳2衛2陽台': '格局', '24年': '屋齡', '41.96坪(含車位)'...   \n",
       "\n",
       "                                          basic_info  \n",
       "0  {'現況': '住宅', '型態': '電梯大樓', '裝潢程度': '簡易裝潢', '帶租...  "
      ]
     },
     "execution_count": 98,
     "metadata": {},
     "output_type": "execute_result"
    }
   ],
   "source": [
    "pd.DataFrame(column_dict)"
   ]
  },
  {
   "cell_type": "code",
   "execution_count": null,
   "id": "0ef3996c-a012-4e91-be2c-dfa701d77da1",
   "metadata": {},
   "outputs": [],
   "source": []
  },
  {
   "cell_type": "code",
   "execution_count": null,
   "id": "7ea674b5-d152-4c70-aa60-f8120c6375ae",
   "metadata": {},
   "outputs": [],
   "source": []
  },
  {
   "cell_type": "code",
   "execution_count": null,
   "id": "b78d2e1b-6f64-4ad2-a248-e3251b100b96",
   "metadata": {},
   "outputs": [],
   "source": []
  },
  {
   "cell_type": "code",
   "execution_count": null,
   "id": "eef7fedb-bc68-41ce-9964-ff5df5ce08a7",
   "metadata": {
    "tags": []
   },
   "outputs": [],
   "source": [
    "status"
   ]
  },
  {
   "cell_type": "code",
   "execution_count": null,
   "id": "8f85d707-c38b-4fee-912e-39cfd28ed7d1",
   "metadata": {},
   "outputs": [],
   "source": []
  }
 ],
 "metadata": {
  "kernelspec": {
   "display_name": "Python 3 (ipykernel)",
   "language": "python",
   "name": "python3"
  },
  "language_info": {
   "codemirror_mode": {
    "name": "ipython",
    "version": 3
   },
   "file_extension": ".py",
   "mimetype": "text/x-python",
   "name": "python",
   "nbconvert_exporter": "python",
   "pygments_lexer": "ipython3",
   "version": "3.10.11"
  }
 },
 "nbformat": 4,
 "nbformat_minor": 5
}
